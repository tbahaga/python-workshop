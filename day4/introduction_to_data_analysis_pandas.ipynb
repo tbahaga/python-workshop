{
 "cells": [
  {
   "cell_type": "markdown",
   "metadata": {},
   "source": [
    "# Using Pandas Package to Analyze Dataframes"
   ]
  },
  {
   "cell_type": "markdown",
   "metadata": {},
   "source": [
    "This notebook will take you through the process of reading in text data (comma separated values also known as .csv) using pnadas module. By the end of this exercise it is expected that you will be able to:\n",
    "\n",
    "1. Understand how to import modules into Python\n",
    "* Use the *help()* function to interrogate the module\n",
    "* Read and write .csv files\n",
    "* Perform basic statistics using Pandas module\n",
    "* Index dataframe objects\n",
    "* Plot simple graphs of the data\n",
    "\n",
    "Let us begin with loading the Pandas module into Python using the *'import'* statement."
   ]
  },
  {
   "cell_type": "code",
   "execution_count": 1,
   "metadata": {},
   "outputs": [],
   "source": [
    "import pandas as pd  ## Main package used for dataframes in Python\n",
    "\n",
    "# help(pd)       ## Will provide more details about the package"
   ]
  },
  {
   "cell_type": "markdown",
   "metadata": {},
   "source": [
    "To read a text file with comma separated values *(.csv)*, one needs to use the *'read_csv'* function found in the pandas module. Remember we had imported Pandas module and shortened the name as *'pd'*. Therefore, to use the function *'read_csv'* from the Pandas module, one would type the following:\n",
    "\n",
    "* pd.read_csv(options) \n",
    "\n",
    "The data is located in a Google Drive folder (https://drive.google.com/drive/folders/1mh3ihxTMUxxI3_KykCZ6b-s3v-YNRYpz?usp=share_link) shared with you. In order to read data from a Google Drive using Pandas, do the following;\n",
    "\n",
    "* Copy the url of the .csv file and assign it to a variable in Python e.g., *url = 'url copied from Google Drive'* as shown in the picture below\n",
    "* Split the url string using '/' and pick the second last object\n",
    "* Concatenate the the split object with 'https://drive.google.com/uc?export=download&id=' and assign it to another variable called *'path'*\n",
    "* Use *pd.read_csv(options)* function from Pandas to read the file into Python\n",
    "\n",
    "<img src=\"./google_drive2.png\" width=900 height=400 />"
   ]
  },
  {
   "cell_type": "code",
   "execution_count": 7,
   "metadata": {},
   "outputs": [],
   "source": [
    "## Read in some data\n",
    "\n",
    "# help(pd.read_csv)    ## Querry the function for reading csv files\n",
    "\n",
    "url = 'https://drive.google.com/file/d/156zub31NSAFk0GLYfbw1wSM0UUljWsC3/view?usp=share_link'  ## Link copied from Google Drive\n",
    "path = 'https://drive.google.com/uc?export=download&id='+ url.split('/')[-2]                   ## Split url and concatenate with 'https://drive.google.com/uc?export=download&id=' \n",
    "df = pd.read_csv(path, sep=',')#;df                                                            ## Read the data and assing to df"
   ]
  },
  {
   "cell_type": "markdown",
   "metadata": {},
   "source": [
    "The first column of our dataset contains dates when the parameter was observed. It is however not captured as an index column. Forcing the Dates column to Index column is beneficial for DateTime operations in Pandas. Let's force the first column to be our Index column by first forcing the column to a DateTime object by using *'to_datetime()'* function and then using the *'set_index()'* function to make it our index column."
   ]
  },
  {
   "cell_type": "code",
   "execution_count": 46,
   "metadata": {},
   "outputs": [],
   "source": [
    "## Convert the Dates column to Pandas Datetime object and make that column an index\n",
    "\n",
    "df['Dates'] = pd.to_datetime(df['Dates'])      ## Convert to a DatetTime object\n",
    "df = df.set_index('Dates')#;df                  ## Setting the 'Dates' column as an index"
   ]
  },
  {
   "cell_type": "markdown",
   "metadata": {},
   "source": [
    "Let us now subset the data and pick a season of interest, say March-May rainfall season. In order to index dataframe object, you can use the Pandas function *'df.iloc'*. Here *df* refers to the dataframe that you read into Python using Pandas. Next we pick only the months which satify a condition i.e., all months equal to or greater than 3 but less than or equal to 5."
   ]
  },
  {
   "cell_type": "code",
   "execution_count": 43,
   "metadata": {},
   "outputs": [],
   "source": [
    "## Select the months in March to May season using a condition\n",
    "\n",
    "df_mam = df.iloc[((df.index.month >= 3) & (df.index.month <= 5))]#;df_mam"
   ]
  },
  {
   "cell_type": "markdown",
   "metadata": {},
   "source": [
    "The next function *'df.groupby()'* groups the data according to a certain criteria. For us we want to group each MAM season to belong to a particular year. Once we group, it is easy to perform basic statistics such as getting the mean, sum or standard deviation of the MAM season as shown in the next cell. You can add the final output as a column to your dataframe object."
   ]
  },
  {
   "cell_type": "code",
   "execution_count": 51,
   "metadata": {},
   "outputs": [],
   "source": [
    "## Group by year and get the annual MAM rainfall totals. Use mean for temperature\n",
    "\n",
    "ann_mam = df_mam.groupby(df_mam.index.year).sum()#;ann_mam\n",
    "\n",
    "# adding column name to the respective column\n",
    "\n",
    "ann_mam.columns =['mam']#;ann_mam"
   ]
  },
  {
   "cell_type": "markdown",
   "metadata": {},
   "source": [
    "## Plotting the inter-annual variability in MAM season"
   ]
  },
  {
   "cell_type": "markdown",
   "metadata": {},
   "source": [
    "In this next section, you will learn how to plot simple graphs of the results of your analysis. There are several modules you can use to plot data in Python including Pandas. Here we will use the most popular of them, matplotlib. We will import it into Python as *'import matplotlib.pyplot as plt'*."
   ]
  },
  {
   "cell_type": "code",
   "execution_count": 53,
   "metadata": {},
   "outputs": [],
   "source": [
    "import matplotlib.pyplot as plt"
   ]
  },
  {
   "cell_type": "markdown",
   "metadata": {},
   "source": [
    "Next we plot our results as a line graph and annotate it wherever possible."
   ]
  },
  {
   "cell_type": "code",
   "execution_count": null,
   "metadata": {},
   "outputs": [],
   "source": [
    "# Create figure and plot space\n",
    "fig, ax = plt.subplots(figsize=(10, 10))\n",
    "\n",
    "# Add x-axis and y-axis\n",
    "ax.plot(ann_mam.index.values,\n",
    "       ann_mam['mam'],\n",
    "       color='purple')\n",
    "\n",
    "# Set title and labels for axes\n",
    "ax.set(xlabel=\"Years\",\n",
    "       ylabel=\"Precipitation (mm)\",\n",
    "       title=\"Total Rainfall for MAM Season\")\n",
    "\n",
    "# Rotate tick marks on x-axis\n",
    "plt.setp(ax.get_xticklabels(), rotation=45)\n",
    "\n",
    "plt.show()"
   ]
  },
  {
   "cell_type": "markdown",
   "metadata": {},
   "source": [
    "## Exercise \n",
    "\n",
    "- Repeat the process above and add the JJAS and OND seasons to the same plot using a diferent color and line type.\n",
    "- Repear the process for Emali station but add the different climate models (i.e four climate models) in the same plot (remember that you cannot use the same variable name to assign different values, i.e. use df1, df2, and so on for multiple datasets/models).\n",
    "- Calculate the anomalies (i.e deviation of each mam/ond/jjas value from the long-term mean of 1981-2010) and plot.\n",
    "- Repeat the process but plot the annual cycle i.e (long-term mean rainfall amounts for each month versus the months).\n",
    "- Load the temperature data and repeat the above.\n",
    "- Save the plots in png format in the ./plots folder.\n",
    "\n",
    "Use the cells below for the exercies."
   ]
  },
  {
   "cell_type": "code",
   "execution_count": null,
   "metadata": {},
   "outputs": [],
   "source": []
  }
 ],
 "metadata": {
  "kernelspec": {
   "display_name": "Python 3",
   "language": "python",
   "name": "python3"
  },
  "language_info": {
   "codemirror_mode": {
    "name": "ipython",
    "version": 3
   },
   "file_extension": ".py",
   "mimetype": "text/x-python",
   "name": "python",
   "nbconvert_exporter": "python",
   "pygments_lexer": "ipython3",
   "version": "3.7.6"
  }
 },
 "nbformat": 4,
 "nbformat_minor": 4
}
