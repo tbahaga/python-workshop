{
 "cells": [
  {
   "cell_type": "markdown",
   "id": "d620033a",
   "metadata": {},
   "source": [
    "## Notebook steps \n",
    "\n",
    "1. Read stackholder reports on months when the extreme rainfall occured, reports are in xlsx file\n",
    "2. Organize the CHRIPS data on that particular reported months\n",
    "3. Plot the box plot of particular months\n",
    "4. Plot the daily maps of particular months (excercise)\n",
    "5. Check on the different masking methods and why there is need to choose based on use cases  \n"
   ]
  },
  {
   "cell_type": "markdown",
   "id": "a6b6c90e",
   "metadata": {},
   "source": [
    "### Discussion points\n",
    "\n",
    "1. Automate boring stuffs\n",
    "\n",
    "2. Explore, test, develop in Jupyter Notebook\n",
    "\n",
    "3. Production/ actual task in python script \n",
    "\n",
    "4. Script formatting in IDE\n",
    "\n",
    "5. Version control the notebook and Python script\n",
    "\n",
    "6. Unit testing practices "
   ]
  },
  {
   "cell_type": "code",
   "execution_count": null,
   "id": "74c2a87a",
   "metadata": {},
   "outputs": [],
   "source": [
    "## read xlsx file for know the reported extreme rainfall months"
   ]
  },
  {
   "cell_type": "code",
   "execution_count": null,
   "id": "61b4077a",
   "metadata": {},
   "outputs": [],
   "source": [
    "import pandas as pd\n",
    "kmj_db=pd.read_excel('/srv/repo/IBF_workshop_data/kmj_daily_rainfall_chrips/kmj_impact_report.xlsx', sheet_name='Sheet1')\n",
    "kmj_db"
   ]
  },
  {
   "cell_type": "markdown",
   "id": "d84378ca",
   "metadata": {},
   "source": [
    "## get ncfiles "
   ]
  },
  {
   "cell_type": "code",
   "execution_count": null,
   "id": "37cd938c",
   "metadata": {},
   "outputs": [],
   "source": [
    "import glob\n",
    "\n",
    "\n",
    "ncfiles_list=glob.glob('/srv/repo/IBF_workshop_data/kmj_daily_rainfall_chrips/*.nc')\n",
    "\n",
    "ncfiles_list"
   ]
  },
  {
   "cell_type": "code",
   "execution_count": null,
   "id": "18a841ec",
   "metadata": {},
   "outputs": [],
   "source": [
    "import xarray as xr\n",
    "\n",
    "ds=xr.open_dataset(ncfiles_list[0])\n",
    "\n",
    "ds"
   ]
  },
  {
   "cell_type": "markdown",
   "id": "43671237",
   "metadata": {},
   "source": [
    "Note, the netcdf files are from this location, the download can be made for the years in xlsx fileshttps://data.chc.ucsb.edu/products/CHIRPS-2.0/global_daily/netcdf/p05/chirps-v2.0.2007.days_p05.nc\n"
   ]
  },
  {
   "cell_type": "markdown",
   "id": "d119d803",
   "metadata": {},
   "source": [
    "## let us for loop and make the district wise csv file"
   ]
  },
  {
   "cell_type": "code",
   "execution_count": null,
   "id": "f93c9083",
   "metadata": {
    "ExecuteTime": {
     "end_time": "2023-04-18T04:43:52.239068Z",
     "start_time": "2023-04-18T04:42:45.570841Z"
    }
   },
   "outputs": [],
   "source": [
    "import pandas as pd\n",
    "\n",
    "kmj_db=pd.read_excel('/srv/repo/IBF_workshop_data/kmj_daily_rainfall_chrips/kmj_impact_report.xlsx', sheet_name='Sheet1')\n",
    "\n",
    "kmj_db['date1']=pd.to_datetime(kmj_db['date'],format='%Y%m')\n",
    "kmj_db['year']=kmj_db['date1'].dt.year\n",
    "kmj_db1=kmj_db.drop_duplicates('year')\n",
    "\n",
    "year_list=kmj_db1['year'].tolist()\n",
    "\n",
    "\n",
    "geodf = gp.read_file(f'/srv/repo/IBF_workshop_data/gis_files/kmj/Karamoja_9_districts.shp')\n",
    "geodf.set_crs(epsg=4326,inplace=True)\n",
    "\n",
    "output_folder='/srv/repo/IBF_workshop_data/kmj_daily_rainfall_chrips/raw_dist/'\n",
    "\n",
    "for year in year_list:\n",
    "    if year==2007:\n",
    "        pass\n",
    "    else:\n",
    "        db_year=kmj_db[kmj_db['year']==year]\n",
    "        xds = rioxarray.open_rasterio(f'{ncfile_path}chirps-v2.0.{year}.days_p05.nc')\n",
    "        xds.rio.write_crs(\"epsg:4326\",inplace=True)\n",
    "        for idx, row in db_year.iterrows():\n",
    "            dist_name=row['district']\n",
    "            geodf1=geodf[geodf['admin2Name']==dist_name.title()]\n",
    "            clipped = xds.rio.clip([geodf1.geometry.values[0]], geodf.crs)\n",
    "            cds=clipped.to_dataset()\n",
    "            month=int(datetime.strptime(str(row['date']), '%Y%m').date().strftime('%-m'))\n",
    "            cds1=cds.loc[{\"time\":cds.time.dt.month==month}]\n",
    "            cds1n=cds1.where((cds1>-9999), drop=True)\n",
    "            cdb=cds1n.to_dataframe()\n",
    "            cdb1=cdb.reset_index()\n",
    "            cdb1.to_csv(f'{output_folder}{dist_name.lower()}_{year}_{month}.csv')"
   ]
  },
  {
   "cell_type": "markdown",
   "id": "0dbe2ec7",
   "metadata": {},
   "source": [
    "# plotting of chrips data"
   ]
  },
  {
   "cell_type": "code",
   "execution_count": null,
   "id": "388f65aa",
   "metadata": {
    "ExecuteTime": {
     "end_time": "2023-04-18T06:50:08.667087Z",
     "start_time": "2023-04-18T06:49:55.249660Z"
    }
   },
   "outputs": [],
   "source": [
    "import pandas as pd\n",
    "import matplotlib.pyplot as plt\n",
    "import pylab\n",
    "\n",
    "\n",
    "kmj_db=pd.read_excel('/srv/repo/IBF_workshop_data/kmj_daily_rainfall_chrips/kmj_impact_report.xlsx', sheet_name='Sheet1')\n",
    "\n",
    "kmj_db['date1']=pd.to_datetime(kmj_db['date'],format='%Y%m')\n",
    "kmj_db['year']=kmj_db['date1'].dt.year\n",
    "#kmj_db1=kmj_db.drop_duplicates('year')\n",
    "\n",
    "year_list=kmj_db1['year'].tolist()\n",
    "\n",
    "kmj_db['test']=kmj_db['district']+kmj_db['date'].astype(str)\n",
    "kmj_db1=kmj_db.drop_duplicates('test')\n",
    "\n",
    "input_folder='/srv/repo/IBF_workshop_data/kmj_daily_rainfall_chrips/raw_dist/'\n",
    "\n",
    "output_folder='/srv/repo/IBF_workshop_data/kmj_daily_rainfall_chrips/plot_dist/'\n",
    "for idx, row in kmj_db[56:].iterrows():\n",
    "    year=row['year']\n",
    "    dist_name=row['district']\n",
    "    month=int(datetime.strptime(str(row['date']), '%Y%m').date().strftime('%-m'))\n",
    "    db=pd.read_csv(f'{input_folder}{dist_name.lower()}_{year}_{month}.csv')\n",
    "    #db.boxplot(column='price', by='location')\n",
    "    #fig = plt.figure()\n",
    "    #fig.suptitle('test title', fontsize=20)\n",
    "    db['Date']= pd.to_datetime(db['time'])\n",
    "    db['Date']=db[\"Date\"].dt.strftime('%Y-%m-%d')\n",
    "    axes = db.boxplot(column='precip', by='Date',rot=90, fontsize=15,figsize=(16, 11))\n",
    "    title_boxplot = dist_name\n",
    "    plt.title( title_boxplot )\n",
    "    plt.suptitle('') # that's what you're after\n",
    "    #plt.show()\n",
    "    pylab.savefig(f'{output_folder}{dist_name.lower()}_{year}_{month}.png')"
   ]
  },
  {
   "cell_type": "code",
   "execution_count": null,
   "id": "2a59a5a1",
   "metadata": {},
   "outputs": [],
   "source": []
  },
  {
   "cell_type": "markdown",
   "id": "29515554",
   "metadata": {},
   "source": [
    "## subset for each district\n",
    "### test district subset "
   ]
  },
  {
   "cell_type": "code",
   "execution_count": null,
   "id": "9707a9ef",
   "metadata": {
    "ExecuteTime": {
     "end_time": "2023-04-18T08:05:44.824444Z",
     "start_time": "2023-04-18T08:05:43.363016Z"
    }
   },
   "outputs": [],
   "source": [
    "import rioxarray\n",
    "import geopandas\n",
    "import matplotlib.pyplot as plt\n",
    "import cartopy.crs as ccrs\n",
    "\n",
    "geodf = geopandas.read_file('/srv/repo/IBF_workshop_data/gis_files/kmj/Karamoja_9_districts.shp')\n",
    "xds = rioxarray.open_rasterio('/srv/repo/IBF_workshop_data/kmj_daily_rainfall_chrips/chirps-v2.0.2010.days_p05.nc')\n",
    "\n",
    "geodf.set_crs(epsg=4326,inplace=True)\n",
    "\n",
    "xds.rio.write_crs(\"epsg:4326\",inplace=True)\n",
    "\n",
    "# for idx, row in geodf.iterrows():\n",
    "#     clipped = xds.rio.clip(geodf.geometry.values, geodf.crs)\n",
    "#     dist_name=row['admin2Name']\n",
    "#     local_path_nc=f'/home/chrips/dist_clips/{dist_name.lower()}.nc'\n",
    "#     cds=clipped.to_dataset()\n",
    "#     cds.to_netcdf(local_path_nc)\n",
    "#     clipped=[]\n",
    "fig=plt.figure(figsize=(10,10))\n",
    "\n",
    "ax1=fig.add_subplot(331,projection=ccrs.PlateCarree())\n",
    "clipped = xds.rio.clip([geodf.geometry.values[0]], geodf.crs)\n",
    "cds=clipped.to_dataset()\n",
    "cds1=cds.sel(time=slice('2010-01-01'))\n",
    "cds1['precip'].sel(time=cds1['time'][0]).plot(ax=ax1,add_colorbar=False)\n",
    "#legend()\n",
    "#plt.title(geodf['admin2Name'].values[0])\n",
    "ax1.legend().set_visible(False)\n",
    "plotname=geodf['admin2Name'].values[0]\n",
    "x=cds.sizes['x']\n",
    "y=cds.sizes['y']\n",
    "#plt.legend('',frameon=False)\n",
    "\n",
    "plt.title(f'{plotname} with pixels {x} X {y}')\n",
    "#legend()\n",
    "#\n",
    "ax2=fig.add_subplot(332,projection=ccrs.PlateCarree())\n",
    "clipped = xds.rio.clip([geodf.geometry.values[1]], geodf.crs)\n",
    "cds=clipped.to_dataset()\n",
    "cds['precip'].sel(time=cds['time'][0]).plot(add_colorbar=False,ax=ax2)\n",
    "plotname=geodf['admin2Name'].values[1]\n",
    "x=cds.sizes['x']\n",
    "y=cds.sizes['y']\n",
    "plt.title(f'{plotname} with pixels {x} X {y}')\n",
    "#\n",
    "ax3=fig.add_subplot(333,projection=ccrs.PlateCarree())\n",
    "clipped = xds.rio.clip([geodf.geometry.values[2]], geodf.crs)\n",
    "cds=clipped.to_dataset()\n",
    "cds['precip'].sel(time=cds['time'][0]).plot(add_colorbar=False,ax=ax3)\n",
    "plotname=geodf['admin2Name'].values[2]\n",
    "x=cds.sizes['x']\n",
    "y=cds.sizes['y']\n",
    "plt.title(f'{plotname} with pixels {x} X {y}')\n",
    "#\n",
    "ax4=fig.add_subplot(334,projection=ccrs.PlateCarree())\n",
    "clipped = xds.rio.clip([geodf.geometry.values[3]], geodf.crs)\n",
    "cds=clipped.to_dataset()\n",
    "cds['precip'].sel(time=cds['time'][0]).plot(add_colorbar=False,ax=ax4)\n",
    "plotname=geodf['admin2Name'].values[3]\n",
    "x=cds.sizes['x']\n",
    "y=cds.sizes['y']\n",
    "plt.title(f'{plotname} with pixels {x} X {y}')\n",
    "#\n",
    "ax5=fig.add_subplot(335,projection=ccrs.PlateCarree())\n",
    "clipped = xds.rio.clip([geodf.geometry.values[4]], geodf.crs)\n",
    "cds=clipped.to_dataset()\n",
    "cds['precip'].sel(time=cds['time'][0]).plot(add_colorbar=False,ax=ax5)\n",
    "plotname=geodf['admin2Name'].values[4]\n",
    "x=cds.sizes['x']\n",
    "y=cds.sizes['y']\n",
    "plt.title(f'{plotname} with pixels {x} X {y}')\n",
    "#\n",
    "ax6=fig.add_subplot(336,projection=ccrs.PlateCarree())\n",
    "clipped = xds.rio.clip([geodf.geometry.values[5]], geodf.crs)\n",
    "cds=clipped.to_dataset()\n",
    "cds['precip'].sel(time=cds['time'][0]).plot(add_colorbar=False,ax=ax6)\n",
    "plotname=geodf['admin2Name'].values[5]\n",
    "x=cds.sizes['x']\n",
    "y=cds.sizes['y']\n",
    "plt.title(f'{plotname} with pixels {x} X {y}')\n",
    "#\n",
    "ax7=fig.add_subplot(337,projection=ccrs.PlateCarree())\n",
    "clipped = xds.rio.clip([geodf.geometry.values[6]], geodf.crs)\n",
    "cds=clipped.to_dataset()\n",
    "cds['precip'].sel(time=cds['time'][0]).plot(add_colorbar=False,ax=ax7)\n",
    "plotname=geodf['admin2Name'].values[6]\n",
    "x=cds.sizes['x']\n",
    "y=cds.sizes['y']\n",
    "plt.title(f'{plotname} with pixels {x} X {y}')\n",
    "#\n",
    "ax8=fig.add_subplot(338,projection=ccrs.PlateCarree())\n",
    "clipped = xds.rio.clip([geodf.geometry.values[7]], geodf.crs)\n",
    "cds=clipped.to_dataset()\n",
    "cds['precip'].sel(time=cds['time'][0]).plot(add_colorbar=False,ax=ax8)\n",
    "plotname=geodf['admin2Name'].values[7]\n",
    "x=cds.sizes['x']\n",
    "y=cds.sizes['y']\n",
    "plt.title(f'{plotname} with pixels {x} X {y}')\n",
    "#\n",
    "ax9=fig.add_subplot(339,projection=ccrs.PlateCarree())\n",
    "clipped = xds.rio.clip([geodf.geometry.values[8]], geodf.crs)\n",
    "cds=clipped.to_dataset()\n",
    "cds['precip'].sel(time=cds['time'][0]).plot(add_colorbar=False,ax=ax9)\n",
    "plotname=geodf['admin2Name'].values[8]\n",
    "x=cds.sizes['x']\n",
    "y=cds.sizes['y']\n",
    "plt.title(f'{plotname} with pixels {x} X {y}')\n"
   ]
  }
 ],
 "metadata": {
  "kernelspec": {
   "display_name": "Python 3 (ipykernel)",
   "language": "python",
   "name": "python3"
  },
  "language_info": {
   "codemirror_mode": {
    "name": "ipython",
    "version": 3
   },
   "file_extension": ".py",
   "mimetype": "text/x-python",
   "name": "python",
   "nbconvert_exporter": "python",
   "pygments_lexer": "ipython3",
   "version": "3.9.16"
  },
  "toc": {
   "base_numbering": 1,
   "nav_menu": {},
   "number_sections": true,
   "sideBar": true,
   "skip_h1_title": false,
   "title_cell": "Table of Contents",
   "title_sidebar": "Contents",
   "toc_cell": false,
   "toc_position": {},
   "toc_section_display": true,
   "toc_window_display": true
  }
 },
 "nbformat": 4,
 "nbformat_minor": 5
}
