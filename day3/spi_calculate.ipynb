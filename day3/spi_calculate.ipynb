{
 "cells": [
  {
   "cell_type": "code",
   "execution_count": null,
   "metadata": {},
   "outputs": [],
   "source": [
    "## Notebook steps\n",
    "\n",
    "1. Read CHRIPS monthly data subset for the region of interest\n",
    "2. Regrid the CHRIPS monthly data from 5km into 25km\n",
    "3. Plot the before and after regridding\n",
    "4. Use the SPI calculation method on the regridded data\n",
    "5. Collect MAM SPI product "
   ]
  },
  {
   "cell_type": "code",
   "execution_count": null,
   "metadata": {},
   "outputs": [],
   "source": [
    "## Discussion points\n",
    "\n",
    "1. Finding the SPI calcualtion methods, where to search, github gist, github author profile\n",
    "2. application of pandas dataframe in date formating "
   ]
  },
  {
   "cell_type": "markdown",
   "metadata": {
    "ExecuteTime": {
     "end_time": "2023-03-02T07:33:54.651792Z",
     "start_time": "2023-03-02T07:33:54.648890Z"
    }
   },
   "source": [
    "# notebook source\n",
    "\n",
    "The function to calculate SPI is from https://gist.github.com/monocongo/978348233b4bde80e9bcc52fe8e4150c"
   ]
  },
  {
   "cell_type": "markdown",
   "metadata": {},
   "source": [
    "# SPI calculation routines "
   ]
  },
  {
   "cell_type": "code",
   "execution_count": null,
   "metadata": {},
   "outputs": [],
   "source": [
    "# standard library\n",
    "import os\n",
    "from tempfile import TemporaryDirectory\n",
    "from typing import Dict\n",
    "\n",
    "# third-party\n",
    "from climate_indices.indices import spi, Distribution\n",
    "from climate_indices.compute import Periodicity\n",
    "import numpy as np\n",
    "import pandas as pd\n",
    "import requests\n",
    "import xarray as xr\n",
    "\n",
    "%env ESMFMKFILE=/srv/conda/envs/notebook/lib/esmf.mk\n",
    "import xesmf as xe"
   ]
  },
  {
   "cell_type": "markdown",
   "metadata": {},
   "source": [
    "## regrid the chrips data from 5km to 25 km"
   ]
  },
  {
   "cell_type": "markdown",
   "metadata": {},
   "source": [
    "### before that, let's subset the data to small region"
   ]
  },
  {
   "cell_type": "code",
   "execution_count": null,
   "metadata": {},
   "outputs": [],
   "source": [
    "\n",
    "db=xr.open_dataset('/srv/repo/IBF_workshop_data/kmj_aa/chirps-v2.0.monthly.nc')\n",
    "min_lon = 29.0\n",
    "min_lat = -2.0-0.5\n",
    "max_lon = 35.0+0.5\n",
    "max_lat = 4.2+0.5\n",
    "#array([ 4.2,  3.2,  2.2,  1.2,  0.2, -0.8, -1.8]),\n",
    "# array([29., 30., 31., 32., 33., 34., 35.]))\n",
    "kmj_db = db.sel(latitude=slice(min_lat,max_lat), longitude=slice(min_lon,max_lon))\n",
    "\n",
    "\n",
    "local_path_nc=f'/srv/repo/IBF_workshop_data/kmj_aa/kmj_chirps-v2.0.monthly.nc'\n",
    "kmj_db.to_netcdf(local_path_nc)"
   ]
  },
  {
   "cell_type": "code",
   "execution_count": null,
   "metadata": {},
   "outputs": [],
   "source": [
    "ds1=kmj_db.rename({'longitude':'lon','latitude':'lat'})\n",
    "dr = ds1[\"precip\"] \n",
    "ds_out = xr.Dataset(\n",
    "    {\n",
    "        \"lat\": ([\"lat\"], np.arange(-2, 5.25, 0.25), {\"units\": \"degrees_north\"}),\n",
    "        \"lon\": ([\"lon\"], np.arange(29, 38.25, 0.25), {\"units\": \"degrees_east\"}),\n",
    "    }\n",
    ")\n",
    "regridder = xe.Regridder(ds1, ds_out, \"bilinear\")\n",
    "regridder  # print basic regridder information.\n",
    "dr_out = regridder(dr, keep_attrs=True)\n",
    "ds2=dr_out.to_dataset()\n",
    "ds2.to_netcdf('/srv/repo/IBF_workshop_data/kmj_aa/kmj_km25_chirps-v2.0.monthly.nc')"
   ]
  },
  {
   "cell_type": "markdown",
   "metadata": {},
   "source": [
    "## checking on before and after the regrdding "
   ]
  },
  {
   "cell_type": "code",
   "execution_count": null,
   "metadata": {},
   "outputs": [],
   "source": [
    "kmj_db['precip'].sel(time='1981-01-01T00:00:00.000000000').plot()"
   ]
  },
  {
   "cell_type": "code",
   "execution_count": null,
   "metadata": {},
   "outputs": [],
   "source": [
    "import matplotlib.pyplot as plt\n",
    "import cartopy.crs as ccrs\n",
    "\n",
    "fig=plt.figure(figsize=(10,10))\n",
    "\n",
    "ax1=fig.add_subplot(211,projection=ccrs.PlateCarree())\n",
    "#kmj_db['precip'].sel(time='2012').plot(ax=ax1,add_colorbar=False)\n",
    "kmj_db['precip'].sel(time='1981-01-01T00:00:00.000000000').plot(ax=ax1)\n",
    "#plt.title(geodf['admin2Name'].values[0])\n",
    "ax1.legend().set_visible(False)\n",
    "plotname='Original CHRIPS data'\n",
    "plt.title(f'{plotname} with pixels 5X5 km')\n",
    "\n",
    "\n",
    "ax1=fig.add_subplot(231,projection=ccrs.PlateCarree())\n",
    "#kmj_db['precip'].sel(time='2012').plot(ax=ax1,add_colorbar=False)\n",
    "ds2['precip'].sel(time='1981-01-01T00:00:00.000000000').plot(ax=ax1,add_colorbar=False)\n",
    "#plt.title(geodf['admin2Name'].values[0])\n",
    "ax1.legend().set_visible(False)\n",
    "plotname='Regridded CHRIPS data'\n",
    "plt.title(f'{plotname} with pixels 25X25 km')"
   ]
  },
  {
   "cell_type": "code",
   "execution_count": null,
   "metadata": {},
   "outputs": [],
   "source": [
    "# create a wrapper function that can be applied to an entire Dataset\n",
    "# (takes a DataArray as first argument, returns a DataArray)\n",
    "def spi_wrapper(\n",
    "    obj: xr.DataArray,\n",
    "    precip_var: str,\n",
    "    scale: int,\n",
    "    distribution: Distribution,\n",
    "    data_start_year: int,\n",
    "    calibration_year_initial: int,\n",
    "    calibration_year_final: int,\n",
    "    periodicity: Periodicity,\n",
    "    fitting_params: Dict = None,\n",
    ") -> xr.DataArray:\n",
    "    \n",
    "    # compute SPI for this timeseries\n",
    "    spi_data = spi(\n",
    "        values=obj[precip_var].to_numpy(), #TODO find why we need to use the variable name rather than already using the variables's DataArray (i.e. why is obj a Dataset?)\n",
    "        scale=scale,\n",
    "        distribution=distribution,\n",
    "        data_start_year=data_start_year,\n",
    "        calibration_year_initial=calibration_year_initial,\n",
    "        calibration_year_final=calibration_year_final,\n",
    "        periodicity=periodicity,\n",
    "        fitting_params=fitting_params,\n",
    "    )\n",
    "    #TODO for some reason this is necessary for the nClimGrid low-resolution example NetCDFs\n",
    "    #TODO find out why\n",
    "    spi_data = spi_data.flatten()\n",
    "    #TODO for some reason this is necessary for the NCO-modified nClimGrid normal-resolution example NetCDFs\n",
    "    #TODO find out why\n",
    "    #spi_data = spi_data.reshape(spi_data.size, 1)\n",
    "    # create the return DataArray (copy of input object's geospatial dims/coords plus SPI data)\n",
    "    da_spi = xr.DataArray(\n",
    "        dims   = obj[precip_var].dims,\n",
    "        coords = obj[precip_var].coords,\n",
    "        attrs  = {\n",
    "            'description': 'SPI computed by the climate_indices Python package',\n",
    "            'references': 'https://github.com/monocongo/climate_indices',\n",
    "            'valid_min': -3.09, # this should mirror climate_indices.indices._FITTED_INDEX_VALID_MIN\n",
    "            'valid_max':  3.09, # this should mirror climate_indices.indices._FITTED_INDEX_VALID_MAX\n",
    "        },\n",
    "        data = spi_data,\n",
    "    )\n",
    "\n",
    "    return da_spi"
   ]
  },
  {
   "cell_type": "markdown",
   "metadata": {
    "ExecuteTime": {
     "end_time": "2023-03-15T20:59:26.260734Z",
     "start_time": "2023-03-15T20:59:26.255350Z"
    }
   },
   "source": [
    "# calcualte SPI on xarray"
   ]
  },
  {
   "cell_type": "code",
   "execution_count": null,
   "metadata": {},
   "outputs": [],
   "source": [
    "cdb"
   ]
  },
  {
   "cell_type": "code",
   "execution_count": null,
   "metadata": {},
   "outputs": [],
   "source": [
    "cdb=xr.open_dataset('/srv/repo/IBF_workshop_data/kmj_aa/kmj_km25_chirps-v2.0.monthly.nc')\n",
    "cdb_sc = cdb.stack(grid_cells=('lat', 'lon',))\n",
    "\n",
    "spi_cdb = cdb_sc.groupby('grid_cells').apply(\n",
    "    spi_wrapper,\n",
    "    precip_var='precip',\n",
    "    scale=3,\n",
    "    distribution=Distribution.gamma,\n",
    "    data_start_year=1981,\n",
    "    calibration_year_initial=1981,\n",
    "    calibration_year_final=2018,\n",
    "    periodicity=Periodicity.monthly,\n",
    ").unstack('grid_cells')"
   ]
  },
  {
   "cell_type": "code",
   "execution_count": null,
   "metadata": {},
   "outputs": [],
   "source": [
    "spi_cdb1=spi_cdb.to_dataset(name='spi')\n",
    "spi_cdb1.to_netcdf('/srv/repo/IBF_workshop_data/kmj_aa/months3_spi_kmj_km25_chirps-v2.0.monthly.nc')"
   ]
  },
  {
   "cell_type": "code",
   "execution_count": null,
   "metadata": {},
   "outputs": [],
   "source": [
    "ds=xr.open_dataset('/srv/repo/IBF_workshop_data/kmj_aa/months3_spi_kmj_km25_chirps-v2.0.monthly.nc')\n",
    "\n",
    "ds"
   ]
  },
  {
   "cell_type": "code",
   "execution_count": null,
   "metadata": {},
   "outputs": [],
   "source": []
  }
 ],
 "metadata": {
  "anaconda-cloud": {},
  "kernelspec": {
   "display_name": "Python 3 (ipykernel)",
   "language": "python",
   "name": "python3"
  },
  "language_info": {
   "codemirror_mode": {
    "name": "ipython",
    "version": 3
   },
   "file_extension": ".py",
   "mimetype": "text/x-python",
   "name": "python",
   "nbconvert_exporter": "python",
   "pygments_lexer": "ipython3",
   "version": "3.9.16"
  },
  "toc": {
   "base_numbering": 1,
   "nav_menu": {},
   "number_sections": true,
   "sideBar": true,
   "skip_h1_title": false,
   "title_cell": "Table of Contents",
   "title_sidebar": "Contents",
   "toc_cell": false,
   "toc_position": {},
   "toc_section_display": true,
   "toc_window_display": false
  }
 },
 "nbformat": 4,
 "nbformat_minor": 2
}
